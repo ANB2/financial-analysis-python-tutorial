{
 "metadata": {
  "name": "FinanceDemo"
 },
 "nbformat": 3,
 "nbformat_minor": 0,
 "worksheets": [
  {
   "cells": [
    {
     "cell_type": "code",
     "collapsed": false,
     "input": [
      "import datetime\n",
      "\n",
      "import pandas as pd\n",
      "from pandas import Series, DataFrame\n",
      "pd.__version__"
     ],
     "language": "python",
     "metadata": {},
     "outputs": [
      {
       "output_type": "pyout",
       "prompt_number": 23,
       "text": [
        "'0.11.0'"
       ]
      }
     ],
     "prompt_number": 23
    },
    {
     "cell_type": "code",
     "collapsed": false,
     "input": [
      "import matplotlib.pyplot as plt\n",
      "import matplotlib as mpl\n",
      "mpl.rc('figure', figsize=(5, 4))\n",
      "mpl.__version__"
     ],
     "language": "python",
     "metadata": {},
     "outputs": [
      {
       "output_type": "pyout",
       "prompt_number": 24,
       "text": [
        "'1.2.1'"
       ]
      }
     ],
     "prompt_number": 24
    },
    {
     "cell_type": "markdown",
     "metadata": {},
     "source": [
      "Creating/loading time series data\n",
      "===================\n",
      "\n",
      "* From Python structures\n",
      "* From CSV files\n",
      "* From Yahoo finance"
     ]
    },
    {
     "cell_type": "heading",
     "level": 3,
     "metadata": {},
     "source": [
      "From Python structures"
     ]
    },
    {
     "cell_type": "code",
     "collapsed": false,
     "input": [
      "labels = ['a', 'b', 'c', 'd', 'e']\n",
      "s = Series(randn(5), index=labels)\n",
      "s"
     ],
     "language": "python",
     "metadata": {},
     "outputs": [
      {
       "output_type": "pyout",
       "prompt_number": 25,
       "text": [
        "a    0.834073\n",
        "b   -0.033562\n",
        "c   -0.402965\n",
        "d    0.929467\n",
        "e    1.814118\n",
        "dtype: float64"
       ]
      }
     ],
     "prompt_number": 25
    },
    {
     "cell_type": "code",
     "collapsed": false,
     "input": [
      "'b' in s"
     ],
     "language": "python",
     "metadata": {},
     "outputs": [
      {
       "output_type": "pyout",
       "prompt_number": 26,
       "text": [
        "True"
       ]
      }
     ],
     "prompt_number": 26
    },
    {
     "cell_type": "code",
     "collapsed": false,
     "input": [
      "s['b']"
     ],
     "language": "python",
     "metadata": {},
     "outputs": [
      {
       "output_type": "pyout",
       "prompt_number": 27,
       "text": [
        "-0.033561757368335082"
       ]
      }
     ],
     "prompt_number": 27
    },
    {
     "cell_type": "code",
     "collapsed": false,
     "input": [
      "mapping = s.to_dict()\n",
      "mapping"
     ],
     "language": "python",
     "metadata": {},
     "outputs": [
      {
       "output_type": "pyout",
       "prompt_number": 28,
       "text": [
        "{'a': 0.83407276690033838,\n",
        " 'b': -0.033561757368335082,\n",
        " 'c': -0.40296469260488499,\n",
        " 'd': 0.92946743060787629,\n",
        " 'e': 1.8141176278875564}"
       ]
      }
     ],
     "prompt_number": 28
    },
    {
     "cell_type": "code",
     "collapsed": false,
     "input": [
      "Series(mapping)"
     ],
     "language": "python",
     "metadata": {},
     "outputs": [
      {
       "output_type": "pyout",
       "prompt_number": 29,
       "text": [
        "a    0.834073\n",
        "b   -0.033562\n",
        "c   -0.402965\n",
        "d    0.929467\n",
        "e    1.814118\n",
        "dtype: float64"
       ]
      }
     ],
     "prompt_number": 29
    },
    {
     "cell_type": "heading",
     "level": 3,
     "metadata": {},
     "source": [
      "From CSV files"
     ]
    },
    {
     "cell_type": "heading",
     "level": 3,
     "metadata": {},
     "source": [
      "From Yahoo finance"
     ]
    },
    {
     "cell_type": "code",
     "collapsed": false,
     "input": [
      "aapl = io.data.get_data_yahoo('AAPL', start=datetime.datetime(2011, 10, 1), end=datetime.datetime(2012, 1, 1))\n",
      "aapl.head()"
     ],
     "language": "python",
     "metadata": {},
     "outputs": [
      {
       "html": [
        "<div style=\"max-height:1000px;max-width:1500px;overflow:auto;\">\n",
        "<table border=\"1\" class=\"dataframe\">\n",
        "  <thead>\n",
        "    <tr style=\"text-align: right;\">\n",
        "      <th></th>\n",
        "      <th>Open</th>\n",
        "      <th>High</th>\n",
        "      <th>Low</th>\n",
        "      <th>Close</th>\n",
        "      <th>Volume</th>\n",
        "      <th>Adj Close</th>\n",
        "    </tr>\n",
        "    <tr>\n",
        "      <th>Date</th>\n",
        "      <th></th>\n",
        "      <th></th>\n",
        "      <th></th>\n",
        "      <th></th>\n",
        "      <th></th>\n",
        "      <th></th>\n",
        "    </tr>\n",
        "  </thead>\n",
        "  <tbody>\n",
        "    <tr>\n",
        "      <th>2011-10-03</th>\n",
        "      <td> 380.37</td>\n",
        "      <td> 382.64</td>\n",
        "      <td> 373.17</td>\n",
        "      <td> 374.60</td>\n",
        "      <td> 23896400</td>\n",
        "      <td> 366.72</td>\n",
        "    </tr>\n",
        "    <tr>\n",
        "      <th>2011-10-04</th>\n",
        "      <td> 374.57</td>\n",
        "      <td> 381.80</td>\n",
        "      <td> 354.24</td>\n",
        "      <td> 372.50</td>\n",
        "      <td> 44059900</td>\n",
        "      <td> 364.67</td>\n",
        "    </tr>\n",
        "    <tr>\n",
        "      <th>2011-10-05</th>\n",
        "      <td> 367.86</td>\n",
        "      <td> 379.82</td>\n",
        "      <td> 360.30</td>\n",
        "      <td> 378.25</td>\n",
        "      <td> 28088200</td>\n",
        "      <td> 370.30</td>\n",
        "    </tr>\n",
        "    <tr>\n",
        "      <th>2011-10-06</th>\n",
        "      <td> 373.33</td>\n",
        "      <td> 384.78</td>\n",
        "      <td> 371.80</td>\n",
        "      <td> 377.37</td>\n",
        "      <td> 29020800</td>\n",
        "      <td> 369.44</td>\n",
        "    </tr>\n",
        "    <tr>\n",
        "      <th>2011-10-07</th>\n",
        "      <td> 375.78</td>\n",
        "      <td> 377.74</td>\n",
        "      <td> 368.49</td>\n",
        "      <td> 369.80</td>\n",
        "      <td> 19123500</td>\n",
        "      <td> 362.02</td>\n",
        "    </tr>\n",
        "  </tbody>\n",
        "</table>\n",
        "</div>"
       ],
       "output_type": "pyout",
       "prompt_number": 22,
       "text": [
        "              Open    High     Low   Close    Volume  Adj Close\n",
        "Date                                                           \n",
        "2011-10-03  380.37  382.64  373.17  374.60  23896400     366.72\n",
        "2011-10-04  374.57  381.80  354.24  372.50  44059900     364.67\n",
        "2011-10-05  367.86  379.82  360.30  378.25  28088200     370.30\n",
        "2011-10-06  373.33  384.78  371.80  377.37  29020800     369.44\n",
        "2011-10-07  375.78  377.74  368.49  369.80  19123500     362.02"
       ]
      }
     ],
     "prompt_number": 22
    },
    {
     "cell_type": "markdown",
     "metadata": {},
     "source": [
      "Series and DataFrame: First steps\n",
      "=================================\n",
      "\n",
      "* Indexing\n",
      "* Slicing\n",
      "* Creating new columns"
     ]
    },
    {
     "cell_type": "code",
     "collapsed": false,
     "input": [
      "ts = close_px['AAPL'][-10:]\n",
      "ts"
     ],
     "language": "python",
     "metadata": {},
     "outputs": [
      {
       "output_type": "pyout",
       "prompt_number": 68,
       "text": [
        "2011-10-03    374.6\n",
        "2011-10-04    372.5\n",
        "2011-10-05    378.25\n",
        "2011-10-06    377.37\n",
        "2011-10-07    369.8\n",
        "2011-10-10    388.81\n",
        "2011-10-11    400.29\n",
        "2011-10-12    402.19\n",
        "2011-10-13    408.43\n",
        "2011-10-14    422.0\n",
        "Name: AAPL, Length: 10"
       ]
      }
     ],
     "prompt_number": 68
    },
    {
     "cell_type": "code",
     "collapsed": false,
     "input": [
      "ts[:5]"
     ],
     "language": "python",
     "metadata": {},
     "outputs": [
      {
       "output_type": "pyout",
       "prompt_number": 73,
       "text": [
        "2011-10-03    374.6\n",
        "2011-10-04    372.5\n",
        "2011-10-05    378.25\n",
        "2011-10-06    377.37\n",
        "2011-10-07    369.8\n",
        "Name: AAPL, Length: 5"
       ]
      }
     ],
     "prompt_number": 73
    },
    {
     "cell_type": "code",
     "collapsed": false,
     "input": [
      "ts.index\n"
     ],
     "language": "python",
     "metadata": {},
     "outputs": [
      {
       "output_type": "pyout",
       "prompt_number": 71,
       "text": [
        "Index([2011-10-03 00:00:00, 2011-10-04 00:00:00, 2011-10-05 00:00:00,\n",
        "       2011-10-06 00:00:00, 2011-10-07 00:00:00, 2011-10-10 00:00:00,\n",
        "       2011-10-11 00:00:00, 2011-10-12 00:00:00, 2011-10-13 00:00:00,\n",
        "       2011-10-14 00:00:00], dtype=object)"
       ]
      }
     ],
     "prompt_number": 71
    },
    {
     "cell_type": "code",
     "collapsed": false,
     "input": [
      "date = ts.index[5]\n",
      "date"
     ],
     "language": "python",
     "metadata": {},
     "outputs": [
      {
       "output_type": "pyout",
       "prompt_number": 79,
       "text": [
        "datetime.datetime(2011, 10, 10, 0, 0)"
       ]
      }
     ],
     "prompt_number": 79
    },
    {
     "cell_type": "code",
     "collapsed": false,
     "input": [
      "ts[date]"
     ],
     "language": "python",
     "metadata": {},
     "outputs": [
      {
       "output_type": "pyout",
       "prompt_number": 80,
       "text": [
        "388.81"
       ]
      }
     ],
     "prompt_number": 80
    },
    {
     "cell_type": "code",
     "collapsed": false,
     "input": [
      "ts[5]"
     ],
     "language": "python",
     "metadata": {},
     "outputs": [
      {
       "output_type": "pyout",
       "prompt_number": 82,
       "text": [
        "388.81"
       ]
      }
     ],
     "prompt_number": 82
    },
    {
     "cell_type": "code",
     "collapsed": false,
     "input": [
      "close_px.ix[5, ['IBM', 'JNJ', 'MSFT']]"
     ],
     "language": "python",
     "metadata": {},
     "outputs": [
      {
       "ename": "NameError",
       "evalue": "name 'close_px' is not defined",
       "output_type": "pyerr",
       "traceback": [
        "\u001b[1;31m---------------------------------------------------------------------------\u001b[0m\n\u001b[1;31mNameError\u001b[0m                                 Traceback (most recent call last)",
        "\u001b[1;32m<ipython-input-13-d8084dd0b23c>\u001b[0m in \u001b[0;36m<module>\u001b[1;34m()\u001b[0m\n\u001b[1;32m----> 1\u001b[1;33m \u001b[0mclose_px\u001b[0m\u001b[1;33m.\u001b[0m\u001b[0mix\u001b[0m\u001b[1;33m[\u001b[0m\u001b[1;36m5\u001b[0m\u001b[1;33m,\u001b[0m \u001b[1;33m[\u001b[0m\u001b[1;34m'IBM'\u001b[0m\u001b[1;33m,\u001b[0m \u001b[1;34m'JNJ'\u001b[0m\u001b[1;33m,\u001b[0m \u001b[1;34m'MSFT'\u001b[0m\u001b[1;33m]\u001b[0m\u001b[1;33m]\u001b[0m\u001b[1;33m\u001b[0m\u001b[0m\n\u001b[0m",
        "\u001b[1;31mNameError\u001b[0m: name 'close_px' is not defined"
       ]
      }
     ],
     "prompt_number": 13
    },
    {
     "cell_type": "code",
     "collapsed": false,
     "input": [
      "xs['MSFT']"
     ],
     "language": "python",
     "metadata": {},
     "outputs": [
      {
       "output_type": "pyout",
       "prompt_number": 15,
       "text": [
        "24.530000000000001"
       ]
      }
     ],
     "prompt_number": 15
    },
    {
     "cell_type": "markdown",
     "metadata": {},
     "source": [
      "DataFrame: 2D collection of Series\n",
      "----------------------------------"
     ]
    },
    {
     "cell_type": "code",
     "collapsed": false,
     "input": [
      "df = close_px.ix[-10:, ['AAPL', 'IBM', 'MSFT']]\n",
      "df"
     ],
     "language": "python",
     "metadata": {},
     "outputs": [
      {
       "output_type": "pyout",
       "prompt_number": 91,
       "text": [
        "            AAPL   IBM    MSFT \n",
        "2011-10-03  374.6  173.3  24.53\n",
        "2011-10-04  372.5  174.7  25.34\n",
        "2011-10-05  378.2  176.8  25.89\n",
        "2011-10-06  377.4  181.7  26.34\n",
        "2011-10-07  369.8  182.4  26.25\n",
        "2011-10-10  388.8  186.6  26.94\n",
        "2011-10-11  400.3  185    27   \n",
        "2011-10-12  402.2  186.1  26.96\n",
        "2011-10-13  408.4  186.8  27.18\n",
        "2011-10-14  422    190.5  27.27\n"
       ]
      }
     ],
     "prompt_number": 91
    },
    {
     "cell_type": "code",
     "collapsed": false,
     "input": [
      "df['Ratio'] = df['IBM'] / df['MSFT']\n",
      "df"
     ],
     "language": "python",
     "metadata": {},
     "outputs": [
      {
       "output_type": "pyout",
       "prompt_number": 92,
       "text": [
        "            AAPL   IBM    MSFT   Ratio\n",
        "2011-10-03  374.6  173.3  24.53  7.064\n",
        "2011-10-04  372.5  174.7  25.34  6.896\n",
        "2011-10-05  378.2  176.8  25.89  6.831\n",
        "2011-10-06  377.4  181.7  26.34  6.898\n",
        "2011-10-07  369.8  182.4  26.25  6.948\n",
        "2011-10-10  388.8  186.6  26.94  6.927\n",
        "2011-10-11  400.3  185    27     6.852\n",
        "2011-10-12  402.2  186.1  26.96  6.904\n",
        "2011-10-13  408.4  186.8  27.18  6.873\n",
        "2011-10-14  422    190.5  27.27  6.987\n"
       ]
      }
     ],
     "prompt_number": 92
    },
    {
     "cell_type": "code",
     "collapsed": false,
     "input": [
      "del df['Ratio']\n",
      "df"
     ],
     "language": "python",
     "metadata": {},
     "outputs": [
      {
       "output_type": "pyout",
       "prompt_number": 93,
       "text": [
        "            AAPL   IBM    MSFT \n",
        "2011-10-03  374.6  173.3  24.53\n",
        "2011-10-04  372.5  174.7  25.34\n",
        "2011-10-05  378.2  176.8  25.89\n",
        "2011-10-06  377.4  181.7  26.34\n",
        "2011-10-07  369.8  182.4  26.25\n",
        "2011-10-10  388.8  186.6  26.94\n",
        "2011-10-11  400.3  185    27   \n",
        "2011-10-12  402.2  186.1  26.96\n",
        "2011-10-13  408.4  186.8  27.18\n",
        "2011-10-14  422    190.5  27.27\n"
       ]
      }
     ],
     "prompt_number": 93
    },
    {
     "cell_type": "code",
     "collapsed": false,
     "input": [
      "df.index"
     ],
     "language": "python",
     "metadata": {},
     "outputs": [
      {
       "output_type": "pyout",
       "prompt_number": 19,
       "text": [
        "Index([2011-10-03 00:00:00, 2011-10-04 00:00:00, 2011-10-05 00:00:00,\n",
        "       2011-10-06 00:00:00, 2011-10-07 00:00:00, 2011-10-10 00:00:00,\n",
        "       2011-10-11 00:00:00, 2011-10-12 00:00:00, 2011-10-13 00:00:00,\n",
        "       2011-10-14 00:00:00], dtype=object)"
       ]
      }
     ],
     "prompt_number": 19
    },
    {
     "cell_type": "code",
     "collapsed": false,
     "input": [
      "df.columns"
     ],
     "language": "python",
     "metadata": {},
     "outputs": [
      {
       "output_type": "pyout",
       "prompt_number": 20,
       "text": [
        "Index([AAPL, IBM, MSFT], dtype=object)"
       ]
      }
     ],
     "prompt_number": 20
    },
    {
     "cell_type": "markdown",
     "metadata": {},
     "source": [
      "Underneath, there's a `numpy.array`."
     ]
    },
    {
     "cell_type": "code",
     "collapsed": false,
     "input": [
      "df.values"
     ],
     "language": "python",
     "metadata": {},
     "outputs": [
      {
       "output_type": "pyout",
       "prompt_number": 94,
       "text": [
        "array([[ 374.6 ,  173.29,   24.53],\n",
        "       [ 372.5 ,  174.74,   25.34],\n",
        "       [ 378.25,  176.85,   25.89],\n",
        "       [ 377.37,  181.69,   26.34],\n",
        "       [ 369.8 ,  182.39,   26.25],\n",
        "       [ 388.81,  186.62,   26.94],\n",
        "       [ 400.29,  185.  ,   27.  ],\n",
        "       [ 402.19,  186.12,   26.96],\n",
        "       [ 408.43,  186.82,   27.18],\n",
        "       [ 422.  ,  190.53,   27.27]])"
       ]
      }
     ],
     "prompt_number": 94
    },
    {
     "cell_type": "code",
     "collapsed": false,
     "input": [
      "date = df.index[5]\n",
      "df.ix[date]"
     ],
     "language": "python",
     "metadata": {},
     "outputs": [
      {
       "output_type": "pyout",
       "prompt_number": 95,
       "text": [
        "AAPL    388.81\n",
        "IBM     186.62\n",
        "MSFT    26.94\n",
        "Name: 2011-10-10 00:00:00, Length: 3"
       ]
      }
     ],
     "prompt_number": 95
    },
    {
     "cell_type": "code",
     "collapsed": false,
     "input": [
      "df.ix[5]"
     ],
     "language": "python",
     "metadata": {},
     "outputs": [
      {
       "output_type": "pyout",
       "prompt_number": 23,
       "text": [
        "AAPL    388.81\n",
        "IBM     186.62\n",
        "MSFT    26.94\n",
        "Name: 2011-10-10 00:00:00, Length: 3"
       ]
      }
     ],
     "prompt_number": 23
    },
    {
     "cell_type": "code",
     "collapsed": false,
     "input": [
      "df.ix[5, 'IBM']"
     ],
     "language": "python",
     "metadata": {},
     "outputs": [
      {
       "output_type": "pyout",
       "prompt_number": 24,
       "text": [
        "186.62"
       ]
      }
     ],
     "prompt_number": 24
    },
    {
     "cell_type": "code",
     "collapsed": false,
     "input": [
      "df.ix[df['AAPL'] > 375]"
     ],
     "language": "python",
     "metadata": {},
     "outputs": [
      {
       "output_type": "pyout",
       "prompt_number": 96,
       "text": [
        "            AAPL   IBM    MSFT \n",
        "2011-10-05  378.2  176.8  25.89\n",
        "2011-10-06  377.4  181.7  26.34\n",
        "2011-10-10  388.8  186.6  26.94\n",
        "2011-10-11  400.3  185    27   \n",
        "2011-10-12  402.2  186.1  26.96\n",
        "2011-10-13  408.4  186.8  27.18\n",
        "2011-10-14  422    190.5  27.27\n"
       ]
      }
     ],
     "prompt_number": 96
    },
    {
     "cell_type": "code",
     "collapsed": false,
     "input": [
      "df.ix[df['AAPL'] > 375, ['IBM', 'MSFT']]"
     ],
     "language": "python",
     "metadata": {},
     "outputs": [
      {
       "output_type": "pyout",
       "prompt_number": 97,
       "text": [
        "            IBM    MSFT \n",
        "2011-10-05  176.8  25.89\n",
        "2011-10-06  181.7  26.34\n",
        "2011-10-10  186.6  26.94\n",
        "2011-10-11  185    27   \n",
        "2011-10-12  186.1  26.96\n",
        "2011-10-13  186.8  27.18\n",
        "2011-10-14  190.5  27.27\n"
       ]
      }
     ],
     "prompt_number": 97
    },
    {
     "cell_type": "code",
     "collapsed": false,
     "input": [
      "df.ix[df['AAPL'] > 375, ['IBM', 'MSFT']] = np.nan\n",
      "df"
     ],
     "language": "python",
     "metadata": {},
     "outputs": [
      {
       "output_type": "pyout",
       "prompt_number": 98,
       "text": [
        "            AAPL   IBM    MSFT \n",
        "2011-10-03  374.6  173.3  24.53\n",
        "2011-10-04  372.5  174.7  25.34\n",
        "2011-10-05  378.2  NaN    NaN  \n",
        "2011-10-06  377.4  NaN    NaN  \n",
        "2011-10-07  369.8  182.4  26.25\n",
        "2011-10-10  388.8  NaN    NaN  \n",
        "2011-10-11  400.3  NaN    NaN  \n",
        "2011-10-12  402.2  NaN    NaN  \n",
        "2011-10-13  408.4  NaN    NaN  \n",
        "2011-10-14  422    NaN    NaN  \n"
       ]
      }
     ],
     "prompt_number": 98
    },
    {
     "cell_type": "markdown",
     "metadata": {},
     "source": [
      "Data alignment\n",
      "=============="
     ]
    },
    {
     "cell_type": "code",
     "collapsed": false,
     "input": [
      "s1 = close_px['AAPL'][-20:]\n",
      "s2 = close_px['AAPL'][-25:-10]\n",
      "side_by_side(s1, s2)"
     ],
     "language": "python",
     "metadata": {},
     "outputs": [
      {
       "output_type": "stream",
       "stream": "stdout",
       "text": [
        "2011-09-19    411.63      2011-09-12    379.94  \n",
        "2011-09-20    413.45      2011-09-13    384.62  \n",
        "2011-09-21    412.14      2011-09-14    389.3   \n",
        "2011-09-22    401.82      2011-09-15    392.96  \n",
        "2011-09-23    404.3       2011-09-16    400.5   \n",
        "2011-09-26    403.17      2011-09-19    411.63  \n",
        "2011-09-27    399.26      2011-09-20    413.45  \n",
        "2011-09-28    397.01      2011-09-21    412.14  \n",
        "2011-09-29    390.57      2011-09-22    401.82  \n",
        "2011-09-30    381.32      2011-09-23    404.3   \n",
        "2011-10-03    374.6       2011-09-26    403.17  \n",
        "2011-10-04    372.5       2011-09-27    399.26  \n",
        "2011-10-05    378.25      2011-09-28    397.01  \n",
        "2011-10-06    377.37      2011-09-29    390.57  \n",
        "2011-10-07    369.8       2011-09-30    381.32  \n",
        "2011-10-10    388.81      Name: AAPL, Length: 15\n",
        "2011-10-11    400.29                            \n",
        "2011-10-12    402.19                            \n",
        "2011-10-13    408.43                            \n",
        "2011-10-14    422.0                             \n",
        "Name: AAPL, Length: 20                          \n"
       ]
      }
     ],
     "prompt_number": 100
    },
    {
     "cell_type": "code",
     "collapsed": false,
     "input": [
      "s1 + s2"
     ],
     "language": "python",
     "metadata": {},
     "outputs": [
      {
       "output_type": "pyout",
       "prompt_number": 101,
       "text": [
        "2011-09-12    NaN\n",
        "2011-09-13    NaN\n",
        "2011-09-14    NaN\n",
        "2011-09-15    NaN\n",
        "2011-09-16    NaN\n",
        "2011-09-19    823.26\n",
        "2011-09-20    826.9\n",
        "2011-09-21    824.28\n",
        "2011-09-22    803.64\n",
        "2011-09-23    808.6\n",
        "2011-09-26    806.34\n",
        "2011-09-27    798.52\n",
        "2011-09-28    794.02\n",
        "2011-09-29    781.14\n",
        "2011-09-30    762.64\n",
        "2011-10-03    NaN\n",
        "2011-10-04    NaN\n",
        "2011-10-05    NaN\n",
        "2011-10-06    NaN\n",
        "2011-10-07    NaN\n",
        "2011-10-10    NaN\n",
        "2011-10-11    NaN\n",
        "2011-10-12    NaN\n",
        "2011-10-13    NaN\n",
        "2011-10-14    NaN\n",
        "Name: AAPL, Length: 25"
       ]
      }
     ],
     "prompt_number": 101
    },
    {
     "cell_type": "code",
     "collapsed": false,
     "input": [
      "df = close_px.ix[-10:, :3]\n",
      "df.to_csv('foo.csv')"
     ],
     "language": "python",
     "metadata": {},
     "outputs": [],
     "prompt_number": 113
    },
    {
     "cell_type": "code",
     "collapsed": false,
     "input": [
      "!cat foo.csv"
     ],
     "language": "python",
     "metadata": {},
     "outputs": [
      {
       "output_type": "stream",
       "stream": "stdout",
       "text": [
        "index,AA,AAPL,GE\r\n",
        "2011-10-03 00:00:00,8.9,374.6,14.69\r\n",
        "2011-10-04 00:00:00,9.12,372.5,14.86\r\n",
        "2011-10-05 00:00:00,9.37,378.25,15.27\r\n",
        "2011-10-06 00:00:00,9.88,377.37,15.53\r\n",
        "2011-10-07 00:00:00,9.71,369.8,15.5\r\n",
        "2011-10-10 00:00:00,10.09,388.81,16.14\r\n",
        "2011-10-11 00:00:00,10.3,400.29,16.14\r\n",
        "2011-10-12 00:00:00,10.05,402.19,16.4\r\n",
        "2011-10-13 00:00:00,10.1,408.43,16.22\r\n",
        "2011-10-14 00:00:00,10.26,422.0,16.6\r\n"
       ]
      }
     ],
     "prompt_number": 114
    },
    {
     "cell_type": "code",
     "collapsed": false,
     "input": [
      "ts[ts.weekday == 4]"
     ],
     "language": "python",
     "metadata": {},
     "outputs": [
      {
       "output_type": "pyout",
       "prompt_number": 125,
       "text": [
        "2011-10-07    369.8\n",
        "2011-10-14    422.0\n",
        "Name: AAPL, Length: 2"
       ]
      }
     ],
     "prompt_number": 125
    },
    {
     "cell_type": "code",
     "collapsed": false,
     "input": [
      "side_by_side(s1.reindex(s2.index), s2)"
     ],
     "language": "python",
     "metadata": {},
     "outputs": [
      {
       "output_type": "stream",
       "stream": "stdout",
       "text": [
        "2011-09-12    NaN         2011-09-12    379.94  \n",
        "2011-09-13    NaN         2011-09-13    384.62  \n",
        "2011-09-14    NaN         2011-09-14    389.3   \n",
        "2011-09-15    NaN         2011-09-15    392.96  \n",
        "2011-09-16    NaN         2011-09-16    400.5   \n",
        "2011-09-19    411.63      2011-09-19    411.63  \n",
        "2011-09-20    413.45      2011-09-20    413.45  \n",
        "2011-09-21    412.14      2011-09-21    412.14  \n",
        "2011-09-22    401.82      2011-09-22    401.82  \n",
        "2011-09-23    404.3       2011-09-23    404.3   \n",
        "2011-09-26    403.17      2011-09-26    403.17  \n",
        "2011-09-27    399.26      2011-09-27    399.26  \n",
        "2011-09-28    397.01      2011-09-28    397.01  \n",
        "2011-09-29    390.57      2011-09-29    390.57  \n",
        "2011-09-30    381.32      2011-09-30    381.32  \n",
        "Name: AAPL, Length: 15    Name: AAPL, Length: 15\n"
       ]
      }
     ],
     "prompt_number": 126
    },
    {
     "cell_type": "code",
     "collapsed": false,
     "input": [
      "b, c  = s1.align(s2, join='inner')\n",
      "side_by_side(b, c)"
     ],
     "language": "python",
     "metadata": {},
     "outputs": [
      {
       "output_type": "stream",
       "stream": "stdout",
       "text": [
        "2011-09-19    411.63      2011-09-19    411.63  \n",
        "2011-09-20    413.45      2011-09-20    413.45  \n",
        "2011-09-21    412.14      2011-09-21    412.14  \n",
        "2011-09-22    401.82      2011-09-22    401.82  \n",
        "2011-09-23    404.3       2011-09-23    404.3   \n",
        "2011-09-26    403.17      2011-09-26    403.17  \n",
        "2011-09-27    399.26      2011-09-27    399.26  \n",
        "2011-09-28    397.01      2011-09-28    397.01  \n",
        "2011-09-29    390.57      2011-09-29    390.57  \n",
        "2011-09-30    381.32      2011-09-30    381.32  \n",
        "Name: AAPL, Length: 10    Name: AAPL, Length: 10\n"
       ]
      }
     ],
     "prompt_number": 127
    },
    {
     "cell_type": "code",
     "collapsed": false,
     "input": [
      "b, c  = s1.align(s2, join='outer')\n",
      "side_by_side(b, c)"
     ],
     "language": "python",
     "metadata": {},
     "outputs": [
      {
       "output_type": "stream",
       "stream": "stdout",
       "text": [
        "2011-09-12    NaN         2011-09-12    379.94  \n",
        "2011-09-13    NaN         2011-09-13    384.62  \n",
        "2011-09-14    NaN         2011-09-14    389.3   \n",
        "2011-09-15    NaN         2011-09-15    392.96  \n",
        "2011-09-16    NaN         2011-09-16    400.5   \n",
        "2011-09-19    411.63      2011-09-19    411.63  \n",
        "2011-09-20    413.45      2011-09-20    413.45  \n",
        "2011-09-21    412.14      2011-09-21    412.14  \n",
        "2011-09-22    401.82      2011-09-22    401.82  \n",
        "2011-09-23    404.3       2011-09-23    404.3   \n",
        "2011-09-26    403.17      2011-09-26    403.17  \n",
        "2011-09-27    399.26      2011-09-27    399.26  \n",
        "2011-09-28    397.01      2011-09-28    397.01  \n",
        "2011-09-29    390.57      2011-09-29    390.57  \n",
        "2011-09-30    381.32      2011-09-30    381.32  \n",
        "2011-10-03    374.6       2011-10-03    NaN     \n",
        "2011-10-04    372.5       2011-10-04    NaN     \n",
        "2011-10-05    378.25      2011-10-05    NaN     \n",
        "2011-10-06    377.37      2011-10-06    NaN     \n",
        "2011-10-07    369.8       2011-10-07    NaN     \n",
        "2011-10-10    388.81      2011-10-10    NaN     \n",
        "2011-10-11    400.29      2011-10-11    NaN     \n",
        "2011-10-12    402.19      2011-10-12    NaN     \n",
        "2011-10-13    408.43      2011-10-13    NaN     \n",
        "2011-10-14    422.0       2011-10-14    NaN     \n",
        "Name: AAPL, Length: 25    Name: AAPL, Length: 25\n"
       ]
      }
     ],
     "prompt_number": 128
    },
    {
     "cell_type": "code",
     "collapsed": false,
     "input": [
      "b, c  = s1.align(s2, join='right')\n",
      "side_by_side(b, c)"
     ],
     "language": "python",
     "metadata": {},
     "outputs": [
      {
       "output_type": "stream",
       "stream": "stdout",
       "text": [
        "2011-09-12    NaN         2011-09-12    379.94  \n",
        "2011-09-13    NaN         2011-09-13    384.62  \n",
        "2011-09-14    NaN         2011-09-14    389.3   \n",
        "2011-09-15    NaN         2011-09-15    392.96  \n",
        "2011-09-16    NaN         2011-09-16    400.5   \n",
        "2011-09-19    411.63      2011-09-19    411.63  \n",
        "2011-09-20    413.45      2011-09-20    413.45  \n",
        "2011-09-21    412.14      2011-09-21    412.14  \n",
        "2011-09-22    401.82      2011-09-22    401.82  \n",
        "2011-09-23    404.3       2011-09-23    404.3   \n",
        "2011-09-26    403.17      2011-09-26    403.17  \n",
        "2011-09-27    399.26      2011-09-27    399.26  \n",
        "2011-09-28    397.01      2011-09-28    397.01  \n",
        "2011-09-29    390.57      2011-09-29    390.57  \n",
        "2011-09-30    381.32      2011-09-30    381.32  \n",
        "Name: AAPL, Length: 15    Name: AAPL, Length: 15\n"
       ]
      }
     ],
     "prompt_number": 129
    },
    {
     "cell_type": "code",
     "collapsed": false,
     "input": [
      "df = close_px.ix[-10:, ['AAPL', 'IBM', 'MSFT']]\n",
      "df"
     ],
     "language": "python",
     "metadata": {},
     "outputs": [
      {
       "output_type": "pyout",
       "prompt_number": 130,
       "text": [
        "            AAPL   IBM    MSFT \n",
        "2011-10-03  374.6  173.3  24.53\n",
        "2011-10-04  372.5  174.7  25.34\n",
        "2011-10-05  378.2  176.8  25.89\n",
        "2011-10-06  377.4  181.7  26.34\n",
        "2011-10-07  369.8  182.4  26.25\n",
        "2011-10-10  388.8  186.6  26.94\n",
        "2011-10-11  400.3  185    27   \n",
        "2011-10-12  402.2  186.1  26.96\n",
        "2011-10-13  408.4  186.8  27.18\n",
        "2011-10-14  422    190.5  27.27\n"
       ]
      }
     ],
     "prompt_number": 130
    },
    {
     "cell_type": "code",
     "collapsed": false,
     "input": [
      "df2 = df.ix[::2, ['IBM', 'MSFT']]\n",
      "side_by_side(df, df2)"
     ],
     "language": "python",
     "metadata": {},
     "outputs": [
      {
       "output_type": "stream",
       "stream": "stdout",
       "text": [
        "            AAPL   IBM    MSFT                 IBM    MSFT \n",
        "2011-10-03  374.6  173.3  24.53    2011-10-03  173.3  24.53\n",
        "2011-10-04  372.5  174.7  25.34    2011-10-05  176.8  25.89\n",
        "2011-10-05  378.2  176.8  25.89    2011-10-07  182.4  26.25\n",
        "2011-10-06  377.4  181.7  26.34    2011-10-11  185    27   \n",
        "2011-10-07  369.8  182.4  26.25    2011-10-13  186.8  27.18\n",
        "2011-10-10  388.8  186.6  26.94                            \n",
        "2011-10-11  400.3  185    27                               \n",
        "2011-10-12  402.2  186.1  26.96                            \n",
        "2011-10-13  408.4  186.8  27.18                            \n",
        "2011-10-14  422    190.5  27.27                            \n",
        "                                                           \n"
       ]
      }
     ],
     "prompt_number": 132
    },
    {
     "cell_type": "code",
     "collapsed": false,
     "input": [
      "df + df2"
     ],
     "language": "python",
     "metadata": {},
     "outputs": [
      {
       "output_type": "pyout",
       "prompt_number": 133,
       "text": [
        "            AAPL  IBM    MSFT \n",
        "2011-10-03  NaN   346.6  49.06\n",
        "2011-10-04  NaN   NaN    NaN  \n",
        "2011-10-05  NaN   353.7  51.78\n",
        "2011-10-06  NaN   NaN    NaN  \n",
        "2011-10-07  NaN   364.8  52.5 \n",
        "2011-10-10  NaN   NaN    NaN  \n",
        "2011-10-11  NaN   370    54   \n",
        "2011-10-12  NaN   NaN    NaN  \n",
        "2011-10-13  NaN   373.6  54.36\n",
        "2011-10-14  NaN   NaN    NaN  \n"
       ]
      }
     ],
     "prompt_number": 133
    },
    {
     "cell_type": "code",
     "collapsed": false,
     "input": [
      "b, c = df.align(df2, join='inner')\n",
      "side_by_side(b, c) "
     ],
     "language": "python",
     "metadata": {},
     "outputs": [
      {
       "output_type": "stream",
       "stream": "stdout",
       "text": [
        "            IBM    MSFT                 IBM    MSFT \n",
        "2011-10-03  173.3  24.53    2011-10-03  173.3  24.53\n",
        "2011-10-05  176.8  25.89    2011-10-05  176.8  25.89\n",
        "2011-10-07  182.4  26.25    2011-10-07  182.4  26.25\n",
        "2011-10-11  185    27       2011-10-11  185    27   \n",
        "2011-10-13  186.8  27.18    2011-10-13  186.8  27.18\n",
        "                                                    \n"
       ]
      }
     ],
     "prompt_number": 39
    },
    {
     "cell_type": "markdown",
     "metadata": {},
     "source": [
      "Aligning with filling logic\n",
      "===========================\n",
      "\n",
      "This is highly relevant for working with time series of different frequencies"
     ]
    },
    {
     "cell_type": "code",
     "collapsed": false,
     "input": [
      "ts = close_px['AAPL'][-30:]\n",
      "ts"
     ],
     "language": "python",
     "metadata": {},
     "outputs": [
      {
       "output_type": "pyout",
       "prompt_number": 135,
       "text": [
        "2011-09-02    374.05\n",
        "2011-09-06    379.74\n",
        "2011-09-07    383.93\n",
        "2011-09-08    384.14\n",
        "2011-09-09    377.48\n",
        "2011-09-12    379.94\n",
        "2011-09-13    384.62\n",
        "2011-09-14    389.3\n",
        "2011-09-15    392.96\n",
        "2011-09-16    400.5\n",
        "2011-09-19    411.63\n",
        "2011-09-20    413.45\n",
        "2011-09-21    412.14\n",
        "2011-09-22    401.82\n",
        "2011-09-23    404.3\n",
        "2011-09-26    403.17\n",
        "2011-09-27    399.26\n",
        "2011-09-28    397.01\n",
        "2011-09-29    390.57\n",
        "2011-09-30    381.32\n",
        "2011-10-03    374.6\n",
        "2011-10-04    372.5\n",
        "2011-10-05    378.25\n",
        "2011-10-06    377.37\n",
        "2011-10-07    369.8\n",
        "2011-10-10    388.81\n",
        "2011-10-11    400.29\n",
        "2011-10-12    402.19\n",
        "2011-10-13    408.43\n",
        "2011-10-14    422.0\n",
        "Name: AAPL, Length: 30"
       ]
      }
     ],
     "prompt_number": 135
    },
    {
     "cell_type": "code",
     "collapsed": false,
     "input": [
      "fridays = ts[ts.weekday == 4]\n",
      "fridays"
     ],
     "language": "python",
     "metadata": {},
     "outputs": [
      {
       "output_type": "pyout",
       "prompt_number": 137,
       "text": [
        "2011-09-02    374.05\n",
        "2011-09-09    377.48\n",
        "2011-09-16    400.5\n",
        "2011-09-23    404.3\n",
        "2011-09-30    381.32\n",
        "2011-10-07    369.8\n",
        "2011-10-14    422.0\n",
        "Name: AAPL, Length: 7"
       ]
      }
     ],
     "prompt_number": 137
    },
    {
     "cell_type": "code",
     "collapsed": false,
     "input": [
      "fridays.reindex(ts.index)"
     ],
     "language": "python",
     "metadata": {},
     "outputs": [
      {
       "output_type": "pyout",
       "prompt_number": 47,
       "text": [
        "2011-09-02    374.05\n",
        "2011-09-06    NaN\n",
        "2011-09-07    NaN\n",
        "2011-09-08    NaN\n",
        "2011-09-09    377.48\n",
        "2011-09-12    NaN\n",
        "2011-09-13    NaN\n",
        "2011-09-14    NaN\n",
        "2011-09-15    NaN\n",
        "2011-09-16    400.5\n",
        "2011-09-19    NaN\n",
        "2011-09-20    NaN\n",
        "2011-09-21    NaN\n",
        "2011-09-22    NaN\n",
        "2011-09-23    404.3\n",
        "2011-09-26    NaN\n",
        "2011-09-27    NaN\n",
        "2011-09-28    NaN\n",
        "2011-09-29    NaN\n",
        "2011-09-30    381.32\n",
        "2011-10-03    NaN\n",
        "2011-10-04    NaN\n",
        "2011-10-05    NaN\n",
        "2011-10-06    NaN\n",
        "2011-10-07    369.8\n",
        "2011-10-10    NaN\n",
        "2011-10-11    NaN\n",
        "2011-10-12    NaN\n",
        "2011-10-13    NaN\n",
        "2011-10-14    422.0\n",
        "Name: AAPL, Length: 30"
       ]
      }
     ],
     "prompt_number": 47
    },
    {
     "cell_type": "code",
     "collapsed": false,
     "input": [
      "filled = fridays.reindex(ts.index, method='ffill')\n",
      "filled"
     ],
     "language": "python",
     "metadata": {},
     "outputs": [
      {
       "output_type": "pyout",
       "prompt_number": 138,
       "text": [
        "2011-09-02    374.05\n",
        "2011-09-06    374.05\n",
        "2011-09-07    374.05\n",
        "2011-09-08    374.05\n",
        "2011-09-09    377.48\n",
        "2011-09-12    377.48\n",
        "2011-09-13    377.48\n",
        "2011-09-14    377.48\n",
        "2011-09-15    377.48\n",
        "2011-09-16    400.5\n",
        "2011-09-19    400.5\n",
        "2011-09-20    400.5\n",
        "2011-09-21    400.5\n",
        "2011-09-22    400.5\n",
        "2011-09-23    404.3\n",
        "2011-09-26    404.3\n",
        "2011-09-27    404.3\n",
        "2011-09-28    404.3\n",
        "2011-09-29    404.3\n",
        "2011-09-30    381.32\n",
        "2011-10-03    381.32\n",
        "2011-10-04    381.32\n",
        "2011-10-05    381.32\n",
        "2011-10-06    381.32\n",
        "2011-10-07    369.8\n",
        "2011-10-10    369.8\n",
        "2011-10-11    369.8\n",
        "2011-10-12    369.8\n",
        "2011-10-13    369.8\n",
        "2011-10-14    422.0\n",
        "Name: AAPL, Length: 30"
       ]
      }
     ],
     "prompt_number": 138
    },
    {
     "cell_type": "code",
     "collapsed": false,
     "input": [
      "side_by_side(ts, filled)"
     ],
     "language": "python",
     "metadata": {},
     "outputs": [
      {
       "output_type": "stream",
       "stream": "stdout",
       "text": [
        "2011-09-02    374.05      2011-09-02    374.05  \n",
        "2011-09-06    379.74      2011-09-06    374.05  \n",
        "2011-09-07    383.93      2011-09-07    374.05  \n",
        "2011-09-08    384.14      2011-09-08    374.05  \n",
        "2011-09-09    377.48      2011-09-09    377.48  \n",
        "2011-09-12    379.94      2011-09-12    377.48  \n",
        "2011-09-13    384.62      2011-09-13    377.48  \n",
        "2011-09-14    389.3       2011-09-14    377.48  \n",
        "2011-09-15    392.96      2011-09-15    377.48  \n",
        "2011-09-16    400.5       2011-09-16    400.5   \n",
        "2011-09-19    411.63      2011-09-19    400.5   \n",
        "2011-09-20    413.45      2011-09-20    400.5   \n",
        "2011-09-21    412.14      2011-09-21    400.5   \n",
        "2011-09-22    401.82      2011-09-22    400.5   \n",
        "2011-09-23    404.3       2011-09-23    404.3   \n",
        "2011-09-26    403.17      2011-09-26    404.3   \n",
        "2011-09-27    399.26      2011-09-27    404.3   \n",
        "2011-09-28    397.01      2011-09-28    404.3   \n",
        "2011-09-29    390.57      2011-09-29    404.3   \n",
        "2011-09-30    381.32      2011-09-30    381.32  \n",
        "2011-10-03    374.6       2011-10-03    381.32  \n",
        "2011-10-04    372.5       2011-10-04    381.32  \n",
        "2011-10-05    378.25      2011-10-05    381.32  \n",
        "2011-10-06    377.37      2011-10-06    381.32  \n",
        "2011-10-07    369.8       2011-10-07    369.8   \n",
        "2011-10-10    388.81      2011-10-10    369.8   \n",
        "2011-10-11    400.29      2011-10-11    369.8   \n",
        "2011-10-12    402.19      2011-10-12    369.8   \n",
        "2011-10-13    408.43      2011-10-13    369.8   \n",
        "2011-10-14    422.0       2011-10-14    422.0   \n",
        "Name: AAPL, Length: 30    Name: AAPL, Length: 30\n"
       ]
      }
     ],
     "prompt_number": 49
    },
    {
     "cell_type": "markdown",
     "metadata": {},
     "source": [
      "Works on DataFrame too\n",
      "----------------------"
     ]
    },
    {
     "cell_type": "code",
     "collapsed": false,
     "input": [
      "last_30days = close_px.ix[-30:, ['AAPL', 'MSFT', 'IBM']]\n",
      "last_30days"
     ],
     "language": "python",
     "metadata": {},
     "outputs": [
      {
       "output_type": "pyout",
       "prompt_number": 50,
       "text": [
        "            AAPL   MSFT   IBM  \n",
        "2011-09-02  374.1  25.8   167  \n",
        "2011-09-06  379.7  25.51  165.1\n",
        "2011-09-07  383.9  26     167.3\n",
        "2011-09-08  384.1  26.22  165.2\n",
        "2011-09-09  377.5  25.74  161.4\n",
        "2011-09-12  379.9  25.89  162.4\n",
        "2011-09-13  384.6  26.04  163.4\n",
        "2011-09-14  389.3  26.5   167.2\n",
        "2011-09-15  393    26.99  170.1\n",
        "2011-09-16  400.5  27.12  173  \n",
        "2011-09-19  411.6  27.21  173.1\n",
        "2011-09-20  413.4  26.98  174.7\n",
        "2011-09-21  412.1  25.99  173  \n",
        "2011-09-22  401.8  25.06  168.6\n",
        "2011-09-23  404.3  25.06  169.3\n",
        "2011-09-26  403.2  25.44  174.5\n",
        "2011-09-27  399.3  25.67  177.7\n",
        "2011-09-28  397    25.58  177.6\n",
        "2011-09-29  390.6  25.45  179.2\n",
        "2011-09-30  381.3  24.89  174.9\n",
        "2011-10-03  374.6  24.53  173.3\n",
        "2011-10-04  372.5  25.34  174.7\n",
        "2011-10-05  378.2  25.89  176.8\n",
        "2011-10-06  377.4  26.34  181.7\n",
        "2011-10-07  369.8  26.25  182.4\n",
        "2011-10-10  388.8  26.94  186.6\n",
        "2011-10-11  400.3  27     185  \n",
        "2011-10-12  402.2  26.96  186.1\n",
        "2011-10-13  408.4  27.18  186.8\n",
        "2011-10-14  422    27.27  190.5\n"
       ]
      }
     ],
     "prompt_number": 50
    },
    {
     "cell_type": "code",
     "collapsed": false,
     "input": [
      "last_30days[::5]"
     ],
     "language": "python",
     "metadata": {},
     "outputs": [
      {
       "output_type": "pyout",
       "prompt_number": 51,
       "text": [
        "            AAPL   MSFT   IBM  \n",
        "2011-09-02  374.1  25.8   167  \n",
        "2011-09-12  379.9  25.89  162.4\n",
        "2011-09-19  411.6  27.21  173.1\n",
        "2011-09-26  403.2  25.44  174.5\n",
        "2011-10-03  374.6  24.53  173.3\n",
        "2011-10-10  388.8  26.94  186.6\n"
       ]
      }
     ],
     "prompt_number": 51
    },
    {
     "cell_type": "code",
     "collapsed": false,
     "input": [
      "last_30days[::5].reindex(last_30days.index, method='ffill')"
     ],
     "language": "python",
     "metadata": {},
     "outputs": [
      {
       "output_type": "pyout",
       "prompt_number": 52,
       "text": [
        "            AAPL   MSFT   IBM  \n",
        "2011-09-02  374.1  25.8   167  \n",
        "2011-09-06  374.1  25.8   167  \n",
        "2011-09-07  374.1  25.8   167  \n",
        "2011-09-08  374.1  25.8   167  \n",
        "2011-09-09  374.1  25.8   167  \n",
        "2011-09-12  379.9  25.89  162.4\n",
        "2011-09-13  379.9  25.89  162.4\n",
        "2011-09-14  379.9  25.89  162.4\n",
        "2011-09-15  379.9  25.89  162.4\n",
        "2011-09-16  379.9  25.89  162.4\n",
        "2011-09-19  411.6  27.21  173.1\n",
        "2011-09-20  411.6  27.21  173.1\n",
        "2011-09-21  411.6  27.21  173.1\n",
        "2011-09-22  411.6  27.21  173.1\n",
        "2011-09-23  411.6  27.21  173.1\n",
        "2011-09-26  403.2  25.44  174.5\n",
        "2011-09-27  403.2  25.44  174.5\n",
        "2011-09-28  403.2  25.44  174.5\n",
        "2011-09-29  403.2  25.44  174.5\n",
        "2011-09-30  403.2  25.44  174.5\n",
        "2011-10-03  374.6  24.53  173.3\n",
        "2011-10-04  374.6  24.53  173.3\n",
        "2011-10-05  374.6  24.53  173.3\n",
        "2011-10-06  374.6  24.53  173.3\n",
        "2011-10-07  374.6  24.53  173.3\n",
        "2011-10-10  388.8  26.94  186.6\n",
        "2011-10-11  388.8  26.94  186.6\n",
        "2011-10-12  388.8  26.94  186.6\n",
        "2011-10-13  388.8  26.94  186.6\n",
        "2011-10-14  388.8  26.94  186.6\n"
       ]
      }
     ],
     "prompt_number": 52
    },
    {
     "cell_type": "markdown",
     "metadata": {},
     "source": [
      "Application: daily returns to monthly\n",
      "=====================================\n",
      "\n",
      "Returns defined as: \n",
      "$$ $$\n",
      "$$r_t = \\frac{p_t}{p_{t-1}} - 1$$"
     ]
    },
    {
     "cell_type": "code",
     "collapsed": false,
     "input": [
      "close_px / close_px.shift(1) - 1"
     ],
     "language": "python",
     "metadata": {},
     "outputs": [
      {
       "output_type": "pyout",
       "prompt_number": 140,
       "text": [
        "&lt;class &apos;pandas.core.frame.DataFrame&apos;&gt;\n",
        "Index: 5472 entries, 1990-02-01 00:00:00 to 2011-10-14 00:00:00\n",
        "Data columns:\n",
        "AA      5471  non-null values\n",
        "AAPL    5471  non-null values\n",
        "GE      5471  non-null values\n",
        "IBM     5471  non-null values\n",
        "JNJ     5471  non-null values\n",
        "MSFT    5471  non-null values\n",
        "PEP     5469  non-null values\n",
        "SPX     5471  non-null values\n",
        "XOM     5471  non-null values\n",
        "dtypes: float64(9)"
       ]
      }
     ],
     "prompt_number": 140
    },
    {
     "cell_type": "code",
     "collapsed": false,
     "input": [
      "rets = close_px / close_px.shift(1) - 1"
     ],
     "language": "python",
     "metadata": {},
     "outputs": [],
     "prompt_number": 142
    },
    {
     "cell_type": "markdown",
     "metadata": {},
     "source": [
      "Form return index\n",
      "\n",
      "$ $\n",
      "\n",
      "$$i_t = (1 + r_t) \\cdot i_{t-1}, \\quad i_0 = 1$$"
     ]
    },
    {
     "cell_type": "code",
     "collapsed": false,
     "input": [
      "daily_index = (1 + rets).cumprod()\n",
      "daily_index['IBM'].plot()"
     ],
     "language": "python",
     "metadata": {},
     "outputs": [
      {
       "output_type": "display_data",
       "png": "[encoded data removed]"
      }
     ],
     "prompt_number": 143
    },
    {
     "cell_type": "code",
     "collapsed": false,
     "input": [
      "monthly_index = daily_index.asfreq('EOM')\n",
      "monthly_index[:30]\n",
      "\n",
      "#oops, careful about those NAs!\n",
      "monthly_index = daily_index.asfreq('EOM', method='ffill')\n",
      "monthly_index[:30]"
     ],
     "language": "python",
     "metadata": {},
     "outputs": [
      {
       "output_type": "pyout",
       "prompt_number": 145,
       "text": [
        "            AA      AAPL    GE      IBM     JNJ     MSFT    PEP     SPX     XOM   \n",
        "1990-02-28  1.047   1.011   1       1.063   1.005   1.053   1.004   1.009   1     \n",
        "1990-03-30  1.055   1.197   1.04    1.086   1.052   1.181   1.075   1.034   0.984 \n",
        "1990-04-30  1.01    1.171   1.036   1.115   1.061   0.6187  1.137   1.006   0.9628\n",
        "1990-05-31  1.075   1.227   1.115   1.228   1.197   0.7787  1.268   1.099   1.021 \n",
        "1990-06-29  1.039   1.331   1.121   1.202   1.269   0.8107  1.333   1.089   1.019 \n",
        "1990-07-31  1.132   1.249   1.16    1.141   1.323   0.7093  1.322   1.083   1.104 \n",
        "1990-08-31  1.049   1.1     1.004   1.042   1.229   0.656   1.29    0.9811  1.064 \n",
        "1990-09-28  1.02    0.8623  0.8826  1.088   1.185   0.672   0.3948  0.9308  1.043 \n",
        "1990-10-31  0.8656  0.9144  0.8421  1.079   1.206   0.68    0.412   0.9246  1.043 \n",
        "1990-11-30  0.8941  1.093   0.8866  1.162   1.307   0.7707  0.4398  0.98    1.077 \n",
        "1990-12-31  0.9389  1.279   0.9292  1.156   1.344   0.8027  0.4464  1.004   1.101 \n",
        "1991-01-31  1.049   1.65    1.036   1.297   1.433   1.047   0.4721  1.046   1.099 \n",
        "1991-02-28  1.045   1.702   1.101   1.317   1.538   1.107   0.5622  1.116   1.173 \n",
        "1991-03-29  1.067   2.022   1.127   1.165   1.796   1.132   0.588   1.141   1.245 \n",
        "1991-04-30  1.1     1.635   1.146   1.054   1.77    1.056   0.5473  1.142   1.266 \n",
        "1991-05-31  1.159   1.398   1.251   1.086   1.698   1.171   0.5387  1.186   1.239 \n",
        "1991-06-28  1.1     1.234   1.198   0.9936  1.564   0.7266  0.4979  1.129   1.237 \n",
        "1991-07-31  1.151   1.375   1.186   1.036   1.716   0.784   0.5473  1.18    1.263 \n",
        "1991-08-30  1.128   1.576   1.212   0.991   1.74    0.9093  0.5559  1.203   1.239 \n",
        "1991-09-30  1.041   1.472   1.123   1.06    1.655   0.9493  0.4893  1.18    1.266 \n",
        "1991-10-31  1.033   1.531   1.117   1.005   1.782   1.001   0.4893  1.194   1.298 \n",
        "1991-11-29  0.9531  1.509   1.049   0.9463  1.805   1.037   0.5085  1.141   1.247 \n",
        "1991-12-31  1.049   1.676   1.239   0.9105  2.145   1.187   0.5816  1.269   1.295 \n",
        "1992-01-31  1.051   1.925   1.219   0.9207  2.014   1.283   0.5794  1.243   1.239 \n",
        "1992-02-28  1.13    2.007   1.273   0.8887  1.897   1.317   0.5536  1.255   1.216 \n",
        "1992-03-31  1.149   1.732   1.227   0.8542  1.827   1.264   0.588   1.228   1.165 \n",
        "1992-04-30  1.261   1.788   1.241   0.9284  1.777   1.176   0.6266  1.262   1.277 \n",
        "1992-05-29  1.265   1.777   1.237   0.9284  1.815   1.291   0.6266  1.263   1.29  \n",
        "1992-06-30  1.236   1.427   1.259   1.001   0.8383  0.7467  0.5988  1.241   1.317 \n",
        "1992-07-31  1.202   1.39    1.239   0.9693  0.9226  0.776   0.6417  1.29    1.351 \n"
       ]
      }
     ],
     "prompt_number": 145
    },
    {
     "cell_type": "code",
     "collapsed": false,
     "input": [
      "monthly_rets = monthly_index / monthly_index.shift(1) - 1"
     ],
     "language": "python",
     "metadata": {},
     "outputs": [],
     "prompt_number": 146
    },
    {
     "cell_type": "markdown",
     "metadata": {},
     "source": [
      "Multiple time series manipulation\n",
      "================================="
     ]
    },
    {
     "cell_type": "code",
     "collapsed": false,
     "input": [
      "df2 = df.copy()\n",
      "\n",
      "# set some NAs\n",
      "df2.ix[[0, 7], 'AAPL'] = np.nan\n",
      "df2.ix[[2, 4], 'IBM'] = np.nan\n",
      "df2"
     ],
     "language": "python",
     "metadata": {},
     "outputs": [
      {
       "output_type": "pyout",
       "prompt_number": 147,
       "text": [
        "            AAPL   IBM    MSFT \n",
        "2011-10-03  NaN    173.3  24.53\n",
        "2011-10-04  372.5  174.7  25.34\n",
        "2011-10-05  378.2  NaN    25.89\n",
        "2011-10-06  377.4  181.7  26.34\n",
        "2011-10-07  369.8  NaN    26.25\n",
        "2011-10-10  388.8  186.6  26.94\n",
        "2011-10-11  400.3  185    27   \n",
        "2011-10-12  NaN    186.1  26.96\n",
        "2011-10-13  408.4  186.8  27.18\n",
        "2011-10-14  422    190.5  27.27\n"
       ]
      }
     ],
     "prompt_number": 147
    },
    {
     "cell_type": "code",
     "collapsed": false,
     "input": [
      "df2.fillna(method='ffill')"
     ],
     "language": "python",
     "metadata": {},
     "outputs": [
      {
       "output_type": "pyout",
       "prompt_number": 153,
       "text": [
        "            AAPL   IBM    MSFT \n",
        "2011-10-03  NaN    173.3  24.53\n",
        "2011-10-04  372.5  174.7  25.34\n",
        "2011-10-05  378.2  174.7  25.89\n",
        "2011-10-06  377.4  181.7  26.34\n",
        "2011-10-07  369.8  181.7  26.25\n",
        "2011-10-10  388.8  186.6  26.94\n",
        "2011-10-11  400.3  185    27   \n",
        "2011-10-12  400.3  186.1  26.96\n",
        "2011-10-13  408.4  186.8  27.18\n",
        "2011-10-14  422    190.5  27.27\n"
       ]
      }
     ],
     "prompt_number": 153
    },
    {
     "cell_type": "code",
     "collapsed": false,
     "input": [
      "df['AAPL'].mean()"
     ],
     "language": "python",
     "metadata": {},
     "outputs": [
      {
       "output_type": "pyout",
       "prompt_number": 164,
       "text": [
        "389.42399999999998"
       ]
      }
     ],
     "prompt_number": 164
    },
    {
     "cell_type": "markdown",
     "metadata": {},
     "source": [
      "Basic statistics like count, sum, mean, std, "
     ]
    },
    {
     "cell_type": "code",
     "collapsed": false,
     "input": [
      "df2.mean(0)"
     ],
     "language": "python",
     "metadata": {},
     "outputs": [
      {
       "output_type": "pyout",
       "prompt_number": 158,
       "text": [
        "AAPL    389.68125\n",
        "IBM     183.10125\n",
        "MSFT    26.37\n",
        "Name: None, Length: 3"
       ]
      }
     ],
     "prompt_number": 158
    },
    {
     "cell_type": "code",
     "collapsed": false,
     "input": [
      "weights = Series(rand(3), index=df2.columns)\n",
      "weights /= weights.sum()\n",
      "df2"
     ],
     "language": "python",
     "metadata": {},
     "outputs": [
      {
       "output_type": "pyout",
       "prompt_number": 179,
       "text": [
        "            AAPL   IBM    MSFT \n",
        "2011-10-03  NaN    173.3  24.53\n",
        "2011-10-04  372.5  174.7  25.34\n",
        "2011-10-05  378.2  NaN    25.89\n",
        "2011-10-06  377.4  181.7  26.34\n",
        "2011-10-07  369.8  NaN    26.25\n",
        "2011-10-10  388.8  186.6  26.94\n",
        "2011-10-11  400.3  185    27   \n",
        "2011-10-12  NaN    186.1  26.96\n",
        "2011-10-13  408.4  186.8  27.18\n",
        "2011-10-14  422    190.5  27.27\n"
       ]
      }
     ],
     "prompt_number": 179
    },
    {
     "cell_type": "markdown",
     "metadata": {},
     "source": [
      "Subtracting a Series matches on the column names"
     ]
    },
    {
     "cell_type": "code",
     "collapsed": false,
     "input": [
      "df2 - df2.ix[3]"
     ],
     "language": "python",
     "metadata": {},
     "outputs": [
      {
       "output_type": "pyout",
       "prompt_number": 180,
       "text": [
        "            AAPL   IBM   MSFT\n",
        "2011-10-03  NaN   -8.4  -1.81\n",
        "2011-10-04 -4.87  -6.95 -1   \n",
        "2011-10-05  0.88   NaN  -0.45\n",
        "2011-10-06  0      0     0   \n",
        "2011-10-07 -7.57   NaN  -0.09\n",
        "2011-10-10  11.44  4.93  0.6 \n",
        "2011-10-11  22.92  3.31  0.66\n",
        "2011-10-12  NaN    4.43  0.62\n",
        "2011-10-13  31.06  5.13  0.84\n",
        "2011-10-14  44.63  8.84  0.93\n"
       ]
      }
     ],
     "prompt_number": 180
    },
    {
     "cell_type": "code",
     "collapsed": false,
     "input": [
      "df2 - df2.mean(0)"
     ],
     "language": "python",
     "metadata": {},
     "outputs": [],
     "prompt_number": 74
    },
    {
     "cell_type": "code",
     "collapsed": false,
     "input": [
      "(df2.T - df2.mean(1)).T"
     ],
     "language": "python",
     "metadata": {},
     "outputs": [
      {
       "output_type": "pyout",
       "prompt_number": 184,
       "text": [
        "            AAPL   IBM    MSFT \n",
        "2011-10-03  NaN    74.38 -74.38\n",
        "2011-10-04  181.6 -16.12 -165.5\n",
        "2011-10-05  176.2  NaN   -176.2\n",
        "2011-10-06  182.2 -13.44 -168.8\n",
        "2011-10-07  171.8  NaN   -171.8\n",
        "2011-10-10  188   -14.17 -173.9\n",
        "2011-10-11  196.2 -19.1  -177.1\n",
        "2011-10-12  NaN    79.58 -79.58\n",
        "2011-10-13  201   -20.66 -180.3\n",
        "2011-10-14  208.7 -22.74 -186  \n"
       ]
      }
     ],
     "prompt_number": 184
    },
    {
     "cell_type": "markdown",
     "metadata": {},
     "source": [
      "Except in the special case where you subtract a **TimeSeries** from a **DataFrame** with a datetime index"
     ]
    },
    {
     "cell_type": "code",
     "collapsed": false,
     "input": [
      "# standardize cross-sectionally\n",
      "std_xs = (df2 - df2.mean(1)) / df2.std(1)\n",
      "std_xs.mean(1)"
     ],
     "language": "python",
     "metadata": {},
     "outputs": [
      {
       "output_type": "pyout",
       "prompt_number": 185,
       "text": [
        "2011-10-03    0.0\n",
        "2011-10-04    -3.70074341542e-17\n",
        "2011-10-05    0.0\n",
        "2011-10-06    3.70074341542e-17\n",
        "2011-10-07    0.0\n",
        "2011-10-10    -2.59052039079e-16\n",
        "2011-10-11    7.40148683083e-17\n",
        "2011-10-12    -1.11022302463e-16\n",
        "2011-10-13    0.0\n",
        "2011-10-14    1.11022302463e-16\n",
        "Name: None, Length: 10"
       ]
      }
     ],
     "prompt_number": 185
    },
    {
     "cell_type": "code",
     "collapsed": false,
     "input": [
      "std_xs.count()"
     ],
     "language": "python",
     "metadata": {},
     "outputs": [
      {
       "output_type": "pyout",
       "prompt_number": 189,
       "text": [
        "AAPL    8\n",
        "IBM     8\n",
        "MSFT    10\n",
        "Name: None, Length: 3"
       ]
      }
     ],
     "prompt_number": 189
    },
    {
     "cell_type": "markdown",
     "metadata": {},
     "source": [
      "Plotting\n",
      "========\n",
      "\n",
      "Some basic plotting integration with matplotlib in Series / DataFrame"
     ]
    },
    {
     "cell_type": "code",
     "collapsed": false,
     "input": [
      "subrets = rets.ix[:, ['AAPL', 'IBM', 'XOM', 'MSFT']]\n",
      "subrets"
     ],
     "language": "python",
     "metadata": {},
     "outputs": [
      {
       "output_type": "pyout",
       "prompt_number": 198,
       "text": [
        "&lt;class &apos;pandas.core.frame.DataFrame&apos;&gt;\n",
        "Index: 5472 entries, 1990-02-01 00:00:00 to 2011-10-14 00:00:00\n",
        "Data columns:\n",
        "AAPL    5471  non-null values\n",
        "IBM     5471  non-null values\n",
        "XOM     5471  non-null values\n",
        "MSFT    5471  non-null values\n",
        "dtypes: float64(4)"
       ]
      }
     ],
     "prompt_number": 198
    },
    {
     "cell_type": "code",
     "collapsed": false,
     "input": [
      "(1 + subrets).cumprod().plot()\n",
      "legend(loc='best')\n",
      "title('Cumulative value of $1 invested')"
     ],
     "language": "python",
     "metadata": {},
     "outputs": [
      {
       "output_type": "pyout",
       "prompt_number": 199,
       "text": [
        "&lt;matplotlib.text.Text at 0x10ca999d0&gt;"
       ]
      },
      {
       "output_type": "display_data",
       "png": "[encoded data removed]"
      }
     ],
     "prompt_number": 199
    },
    {
     "cell_type": "code",
     "collapsed": false,
     "input": [
      "#subrets.hist(bins=50)\n",
      "rets[-250:].hist(bins=50)"
     ],
     "language": "python",
     "metadata": {},
     "outputs": [
      {
       "output_type": "display_data",
       "png": "[encoded data removed]"
      }
     ],
     "prompt_number": 202
    },
    {
     "cell_type": "code",
     "collapsed": false,
     "input": [
      "rets.ix[-1]"
     ],
     "language": "python",
     "metadata": {},
     "outputs": [
      {
       "output_type": "pyout",
       "prompt_number": 204,
       "text": [
        "AA      0.0158415841584\n",
        "AAPL    0.0332247876013\n",
        "GE      0.0234278668311\n",
        "IBM     0.0198586875067\n",
        "JNJ     0.00762883387825\n",
        "MSFT    0.00331125827815\n",
        "PEP     -0.00192431045542\n",
        "SPX     0.0173803233471\n",
        "XOM     0.0227838156344\n",
        "Name: 2011-10-14 00:00:00, Length: 9"
       ]
      }
     ],
     "prompt_number": 204
    },
    {
     "cell_type": "code",
     "collapsed": false,
     "input": [
      "rets.ix[-1].plot(kind='bar')\n",
      "title('Returns on %s' % rets.index[-1])\n",
      "axhline(0)"
     ],
     "language": "python",
     "metadata": {},
     "outputs": [
      {
       "output_type": "pyout",
       "prompt_number": 206,
       "text": [
        "&lt;matplotlib.lines.Line2D at 0x10cdde350&gt;"
       ]
      },
      {
       "output_type": "display_data",
       "png": "[encoded data removed]"
      }
     ],
     "prompt_number": 206
    },
    {
     "cell_type": "markdown",
     "metadata": {},
     "source": [
      "Moving window functions\n",
      "======================="
     ]
    },
    {
     "cell_type": "code",
     "collapsed": false,
     "input": [
      "px = close_px['AAPL']\n",
      "px.plot()"
     ],
     "language": "python",
     "metadata": {},
     "outputs": [
      {
       "output_type": "display_data",
       "png": "[encoded data removed]"
      }
     ],
     "prompt_number": 207
    },
    {
     "cell_type": "code",
     "collapsed": false,
     "input": [
      "px.plot()\n",
      "rolling_mean(px, 60, min_periods=50).plot()\n",
      "plt.xlim([datetime(2004, 1, 1), datetime(2006, 1, 1)])\n",
      "plt.ylim([0, 100])"
     ],
     "language": "python",
     "metadata": {},
     "outputs": [
      {
       "output_type": "pyout",
       "prompt_number": 209,
       "text": [
        "(0, 100)"
       ]
      },
      {
       "output_type": "display_data",
       "png": "[encoded data removed]"
      }
     ],
     "prompt_number": 209
    },
    {
     "cell_type": "markdown",
     "metadata": {},
     "source": [
      "Time rule shortcuts\n",
      "-------------------\n",
      "\n",
      "These aliases are provided as a pure convenience\n",
      "\n",
      "<table>\n",
      "    <tr><td>Name</td><td>Description</td></tr>\n",
      "    <tr><td>WEEKDAY</td><td>Business day</td></tr>\n",
      "    <tr><td>EOM</td><td>Business end of month</td></tr>\n",
      "    <tr><td>W@MON</td><td>Weekly on Monday</td></tr>\n",
      "    <tr><td>W@TUE</td><td>Weekly on Tuesday</td></tr>\n",
      "    <tr><td>W@WED</td><td>Weekly on Wednesday</td></tr>\n",
      "    <tr><td>W@THU</td><td>Weekly on Thursday</td></tr>\n",
      "    <tr><td>W@FRI</td><td>Weekly on Friday</td></tr>\n",
      "    <tr><td>Q@MAR</td><td>Quarterly (anchored at March)</td></tr>\n",
      "    <tr><td>A@DEC</td><td>Business year end (December)</td></tr>    \n",
      "</table>\n"
     ]
    },
    {
     "cell_type": "markdown",
     "metadata": {},
     "source": [
      "Frequency conversions\n",
      "---------------------"
     ]
    },
    {
     "cell_type": "code",
     "collapsed": false,
     "input": [
      "close_px.asfreq(datetools.BMonthEnd()\n",
      "             )[:20]"
     ],
     "language": "python",
     "metadata": {},
     "outputs": [
      {
       "output_type": "pyout",
       "prompt_number": 227,
       "text": [
        "            AA    AAPL   GE    IBM    JNJ   MSFT  PEP    SPX    XOM \n",
        "1990-02-28  5.22  7.97   2.89  18.06  4.32  0.54  6.06   331.9  6.2 \n",
        "1990-03-30  5.26  9.43   3.01  18.45  4.52  0.6   6.52   339.9  6.1 \n",
        "1990-04-30  5.07  9.23   2.99  18.95  4.56  0.63  6.9    330.8  5.97\n",
        "1990-05-31  5.39  9.69   3.24  21.1   5.17  0.8   7.69   361.2  6.42\n",
        "1990-06-29  5.21  10.52  3.26  20.66  5.48  0.83  8.11   358    6.4 \n",
        "1990-07-31  5.74  9.87   3.37  19.6   5.71  0.73  8.05   356.1  6.93\n",
        "1990-08-31  5.32  8.72   2.92  18.11  5.34  0.67  7.85   322.6  6.76\n",
        "1990-09-28  5.18  6.83   2.59  18.91  5.14  0.69  7.24   306.1  6.62\n",
        "1990-10-31  4.42  7.25   2.47  18.76  5.24  0.7   7.55   304    6.62\n",
        "1990-11-30  4.57  8.69   2.6   20.43  5.7   0.79  8.07   322.2  6.94\n",
        "1990-12-31  4.8   10.17  2.75  20.32  5.87  0.82  8.21   330.2  7.09\n",
        "1991-01-31  5.41  13.12  3.07  22.79  6.25  1.07  8.69   343.9  7.07\n",
        "1991-02-28  5.39  13.57  3.28  23.37  6.74  1.13  10.35  367.1  7.65\n",
        "1991-03-29  NaN   NaN    NaN   NaN    NaN   NaN   NaN    NaN    NaN \n",
        "1991-04-30  5.71  13.03  3.42  18.7   7.76  1.08  10.1   375.3  8.26\n",
        "1991-05-31  6.02  11.17  3.76  19.49  7.47  1.2   9.94   389.8  8.18\n",
        "1991-06-28  5.71  9.86   3.6   17.84  6.89  1.12  9.23   371.2  8.16\n",
        "1991-07-31  6.01  10.99  3.56  18.6   7.55  1.2   10.14  387.8  8.34\n",
        "1991-08-30  5.89  12.62  3.64  18.01  7.69  1.4   10.3   395.4  8.27\n",
        "1991-09-30  5.44  11.79  3.4   19.26  7.32  1.46  9.1    387.9  8.45\n"
       ]
      }
     ],
     "prompt_number": 227
    },
    {
     "cell_type": "code",
     "collapsed": false,
     "input": [
      "# same thing as\n",
      "rng = DateRange(close_px.index[0], close_px.index[-1],\n",
      "                time_rule='EOM')\n",
      "close_px.reindex(rng)[:20]"
     ],
     "language": "python",
     "metadata": {},
     "outputs": [],
     "prompt_number": 178
    },
    {
     "cell_type": "markdown",
     "metadata": {},
     "source": [
      "GroupBy\n",
      "======="
     ]
    },
    {
     "cell_type": "code",
     "collapsed": false,
     "input": [
      "df = DataFrame({'A' : ['foo', 'bar', 'foo', 'bar',\n",
      "                       'foo', 'bar', 'foo', 'foo'],\n",
      "                'B' : ['one', 'one', 'two', 'three',\n",
      "                       'two', 'two', 'one', 'three'],\n",
      "                'C' : np.random.randn(8),\n",
      "                'D' : np.random.randn(8)})\n",
      "df"
     ],
     "language": "python",
     "metadata": {},
     "outputs": [
      {
       "output_type": "pyout",
       "prompt_number": 250,
       "text": [
        "   A    B      C       D      \n",
        "0  foo  one   -0.8596 -0.9065 \n",
        "1  bar  one   -0.4241 -1.505  \n",
        "2  foo  two   -0.7761  1.392  \n",
        "3  bar  three  1.279  -0.02779\n",
        "4  foo  two    0.9438 -0.631  \n",
        "5  bar  two   -1.002  -0.6624 \n",
        "6  foo  one    0.3065  2.725  \n",
        "7  foo  three  0.3075 -1.847  \n"
       ]
      }
     ],
     "prompt_number": 250
    },
    {
     "cell_type": "code",
     "collapsed": false,
     "input": [
      "for key, group in df.groupby('A'):\n",
      "    print key\n",
      "    print group"
     ],
     "language": "python",
     "metadata": {},
     "outputs": [
      {
       "output_type": "stream",
       "stream": "stdout",
       "text": [
        "bar\n",
        "   A    B      C       D      \n",
        "1  bar  one   -0.4241 -1.505  \n",
        "3  bar  three  1.279  -0.02779\n",
        "5  bar  two   -1.002  -0.6624 \n",
        "\n",
        "foo\n",
        "   A    B      C       D     \n",
        "0  foo  one   -0.8596 -0.9065\n",
        "2  foo  two   -0.7761  1.392 \n",
        "4  foo  two    0.9438 -0.631 \n",
        "6  foo  one    0.3065  2.725 \n",
        "7  foo  three  0.3075 -1.847 \n",
        "\n"
       ]
      }
     ],
     "prompt_number": 252
    },
    {
     "cell_type": "code",
     "collapsed": false,
     "input": [
      "df.groupby('A')['C'].describe().T"
     ],
     "language": "python",
     "metadata": {},
     "outputs": [
      {
       "output_type": "pyout",
       "prompt_number": 253,
       "text": [
        "       bar      foo    \n",
        "count  3        5      \n",
        "mean  -0.04889 -0.01559\n",
        "std    1.186    0.7777 \n",
        "min   -1.002   -0.8596 \n",
        "25%   -0.713   -0.7761 \n",
        "50%   -0.4241   0.3065 \n",
        "75%    0.4276   0.3075 \n",
        "max    1.279    0.9438 \n"
       ]
      }
     ],
     "prompt_number": 253
    },
    {
     "cell_type": "code",
     "collapsed": false,
     "input": [
      "df.groupby('A').mean()"
     ],
     "language": "python",
     "metadata": {},
     "outputs": [
      {
       "output_type": "pyout",
       "prompt_number": 254,
       "text": [
        "     C        D     \n",
        "bar -0.04889 -0.7318\n",
        "foo -0.01559  0.1465\n"
       ]
      }
     ],
     "prompt_number": 254
    },
    {
     "cell_type": "code",
     "collapsed": false,
     "input": [
      "for key, group in df.groupby('A'):\n",
      "    print key\n",
      "    print group"
     ],
     "language": "python",
     "metadata": {},
     "outputs": [],
     "prompt_number": 102
    },
    {
     "cell_type": "code",
     "collapsed": false,
     "input": [
      "df.groupby(['A', 'B']).mean()"
     ],
     "language": "python",
     "metadata": {},
     "outputs": [],
     "prompt_number": 100
    },
    {
     "cell_type": "code",
     "collapsed": false,
     "input": [
      "df.groupby(['A', 'B'], as_index=False).mean()"
     ],
     "language": "python",
     "metadata": {},
     "outputs": [],
     "prompt_number": 101
    },
    {
     "cell_type": "code",
     "collapsed": true,
     "input": [
      "grouped = rets.groupby(lambda x: x.year)\n",
      "for year, group in grouped:\n",
      "    print year\n",
      "    print group[:5]"
     ],
     "language": "python",
     "metadata": {},
     "outputs": []
    }
   ],
   "metadata": {}
  }
 ]
}