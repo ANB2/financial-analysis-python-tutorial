{
 "metadata": {
  "name": "Zipline"
 },
 "nbformat": 3,
 "nbformat_minor": 0,
 "worksheets": [
  {
   "cells": [
    {
     "cell_type": "heading",
     "level": 1,
     "metadata": {},
     "source": [
      "Zipline"
     ]
    },
    {
     "cell_type": "markdown",
     "metadata": {},
     "source": [
      "Zipline is an open-source algorithmic trading simulator.\n",
      "\n",
      "The source can be found at: https://github.com/quantopian/zipline\n",
      "\n",
      "Some benefits include:\n",
      "\n",
      "* Stream-based: Process each event individually, avoids look-ahead bias.\n",
      "* Batteries included: Common transforms (moving average) as well as common risk calculations (Sharpe).\n",
      "* Realistic: slippage, transaction costs, order delays."
     ]
    },
    {
     "cell_type": "code",
     "collapsed": false,
     "input": [
      "import pandas as pd\n",
      "import pandas.io.data\n",
      "import numpy as np\n",
      "from collections import deque\n",
      "import pytz\n",
      "import zipline as zp\n",
      "\n",
      "from zipline.finance.slippage import FixedSlippage"
     ],
     "language": "python",
     "metadata": {},
     "outputs": [],
     "prompt_number": 1
    },
    {
     "cell_type": "markdown",
     "metadata": {},
     "source": [
      "Load our data as before."
     ]
    },
    {
     "cell_type": "code",
     "collapsed": false,
     "input": [
      "# Load Preis data\n",
      "df = pd.read_csv('PreisMoatStanley_ScientificReports_3_1684_2013.dat', delimiter=' ', index_col='DJIA Date', parse_dates=True)\n",
      "# Select relevant columns\n",
      "columns = ['DJIA Closing Price', 'debt']\n",
      "data = df[columns].rename(columns={'DJIA Closing Price': 'djia'})\n",
      "data = data.tshift(2, freq='D') # Move from Sat to Monday\n",
      "data.index = data.index.tz_localize(pytz.UTC) # Convert to UTC timezone\n",
      "data.head()"
     ],
     "language": "python",
     "metadata": {},
     "outputs": [
      {
       "html": [
        "<div style=\"max-height:1000px;max-width:1500px;overflow:auto;\">\n",
        "<table border=\"1\" class=\"dataframe\">\n",
        "  <thead>\n",
        "    <tr style=\"text-align: right;\">\n",
        "      <th></th>\n",
        "      <th>djia</th>\n",
        "      <th>debt</th>\n",
        "    </tr>\n",
        "  </thead>\n",
        "  <tbody>\n",
        "    <tr>\n",
        "      <th>2004-01-14 00:00:00+00:00</th>\n",
        "      <td> 10485.18</td>\n",
        "      <td> 0.210000</td>\n",
        "    </tr>\n",
        "    <tr>\n",
        "      <th>2004-01-22 00:00:00+00:00</th>\n",
        "      <td> 10528.66</td>\n",
        "      <td> 0.210000</td>\n",
        "    </tr>\n",
        "    <tr>\n",
        "      <th>2004-01-28 00:00:00+00:00</th>\n",
        "      <td> 10702.51</td>\n",
        "      <td> 0.210000</td>\n",
        "    </tr>\n",
        "    <tr>\n",
        "      <th>2004-02-04 00:00:00+00:00</th>\n",
        "      <td> 10499.18</td>\n",
        "      <td> 0.213333</td>\n",
        "    </tr>\n",
        "    <tr>\n",
        "      <th>2004-02-11 00:00:00+00:00</th>\n",
        "      <td> 10579.03</td>\n",
        "      <td> 0.200000</td>\n",
        "    </tr>\n",
        "  </tbody>\n",
        "</table>\n",
        "</div>"
       ],
       "output_type": "pyout",
       "prompt_number": 2,
       "text": [
        "                               djia      debt\n",
        "2004-01-14 00:00:00+00:00  10485.18  0.210000\n",
        "2004-01-22 00:00:00+00:00  10528.66  0.210000\n",
        "2004-01-28 00:00:00+00:00  10702.51  0.210000\n",
        "2004-02-04 00:00:00+00:00  10499.18  0.213333\n",
        "2004-02-11 00:00:00+00:00  10579.03  0.200000"
       ]
      }
     ],
     "prompt_number": 2
    },
    {
     "cell_type": "markdown",
     "metadata": {},
     "source": [
      "Define trading algorithm by inheriting from `zipline.TradingAlgorithm`.\n",
      "\n",
      "We have to overwrite two methods:\n",
      "\n",
      "* `initialize()`: Called once before the beginning of the simulation\n",
      "* `handle_data(data)`: Called for every bar. Data contains only information available at this point in time.\n",
      "\n",
      "Some commonly used attributes and methods include:\n",
      "\n",
      "* `self.order(stock, amount)`: Order `amount` of `stock`'s shares\n",
      "* `self.portfolio` object: Contains information about our current portfolio like which positions we currently hold.\n",
      "* `self.run(data)`: Start the simulation. `data` can be a `pandas.DataFrame` that will be streamed through the algorithm and accessed there. It returns a `DataFrame` containing performance information of our algorithm."
     ]
    },
    {
     "cell_type": "code",
     "collapsed": false,
     "input": [
      "# window length of 3 as in original publication\n",
      "delta_t = 3\n",
      "\n",
      "class GoogleTrends(zp.TradingAlgorithm):\n",
      "    def initialize(self):\n",
      "        # Moving window. Defining maxlen causes the window length \n",
      "        # to remain constant as old events get dropped once full.\n",
      "        self.window = deque(maxlen=delta_t)\n",
      "        # Turns off slippage to simplify simulation.\n",
      "        self.set_slippage(FixedSlippage())\n",
      "    \n",
      "    def handle_data(self, data):\n",
      "        window_full = len(self.window) == delta_t\n",
      "        \n",
      "        # Extract debt search volume. \n",
      "        # 'price' is the default field used if no further information is supplied.\n",
      "        debt = data['debt']['price']\n",
      "        \n",
      "        # Exit any prior positions\n",
      "        if 'djia' in self.portfolio.positions:\n",
      "            self.order('djia', -self.portfolio.positions['djia']['amount'])\n",
      "            \n",
      "        # Moving average cross-over logic\n",
      "        if debt > np.mean(self.window) and window_full:\n",
      "            self.order('djia', -100)\n",
      "        elif debt < np.mean(self.window) and window_full:\n",
      "            self.order('djia', 100)\n",
      "        \n",
      "        self.window.append(debt)"
     ],
     "language": "python",
     "metadata": {},
     "outputs": [],
     "prompt_number": 13
    },
    {
     "cell_type": "markdown",
     "metadata": {},
     "source": [
      "Instantiate class and call the `.run()` method to start the backtest."
     ]
    },
    {
     "cell_type": "code",
     "collapsed": false,
     "input": [
      "algo = GoogleTrends()\n",
      "perf = algo.run(data)"
     ],
     "language": "python",
     "metadata": {},
     "outputs": [
      {
       "output_type": "stream",
       "stream": "stderr",
       "text": [
        "[2013-07-17 21:37] DEBUG: Blotter: Requested to trade zero shares of djia\n"
       ]
      },
      {
       "output_type": "stream",
       "stream": "stderr",
       "text": [
        "[2013-07-17 21:37] INFO: Performance: Simulated 1796 trading days out of 1796.\n"
       ]
      },
      {
       "output_type": "stream",
       "stream": "stderr",
       "text": [
        "[2013-07-17 21:37] INFO: Performance: first open: 2004-01-14 14:31:00+00:00\n"
       ]
      },
      {
       "output_type": "stream",
       "stream": "stderr",
       "text": [
        "[2013-07-17 21:37] INFO: Performance: last close: 2011-03-02 21:00:00+00:00\n"
       ]
      }
     ],
     "prompt_number": 14
    },
    {
     "cell_type": "code",
     "collapsed": false,
     "input": [
      "perf.portfolio_value.plot()"
     ],
     "language": "python",
     "metadata": {},
     "outputs": [
      {
       "output_type": "pyout",
       "prompt_number": 15,
       "text": [
        "<matplotlib.axes.AxesSubplot at 0x11fb07cc>"
       ]
      },
      {
       "output_type": "display_data",
       "png": "[encoded data removed]"
      }
     ],
     "prompt_number": 15
    }
   ],
   "metadata": {}
  }
 ]
}